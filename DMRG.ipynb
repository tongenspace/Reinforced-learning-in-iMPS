{
 "cells": [
  {
   "cell_type": "code",
   "execution_count": 14,
   "metadata": {},
   "outputs": [],
   "source": [
    "import numpy as np\n",
    "from Library import Convert_to_A_and_B, ka, truncate, Create_MPO, Create_random_MPS, Pauli, Model_coefficients\n",
    "\n",
    "def H_mult(v):\n",
    "    return np.matmul(H,v)\n",
    "\n",
    "def Exp_value_B(B, L, W, chi_MPO):\n",
    "  v_L,v_R = np.zeros(chi_MPO,dtype=np.complex_), np.zeros(chi_MPO,dtype=np.complex_)\n",
    "  v_L[0],v_R[-1]=1.+0j, 1.+0j\n",
    "  Env = np.einsum(\"a,b,c->abc\",B[0],v_L,B[0])\n",
    "  \n",
    "  for j in range(1,L+1):\n",
    "    Env = np.einsum(\"abc,ajd->djbc\",Env,B[j])\n",
    "    Env = np.einsum(\"djbc,beji->deic\",Env,W)\n",
    "    Env = np.einsum(\"deic,cif->def\",Env,np.conj(B[j]))\n",
    "  Energy = np.einsum(\"ded,e->\",Env,v_R)\n",
    "  return Energy.real"
   ]
  },
  {
   "cell_type": "code",
   "execution_count": 15,
   "metadata": {},
   "outputs": [
    {
     "name": "stdout",
     "output_type": "stream",
     "text": [
      "Initiated right environment\n"
     ]
    }
   ],
   "source": [
    "from numpy import linalg as LA\n",
    "from quspin.basis import spin_basis_1d \n",
    "from quspin.operators import hamiltonian # Hamiltonians and operators\n",
    "from scipy.sparse.linalg import eigsh\n",
    "from scipy.sparse.linalg import LinearOperator\n",
    "import matplotlib.pyplot as plt\n",
    "\n",
    "data_type=np.complex128\n",
    "S_z, S_x, S_y, S1 = Pauli()\n",
    "\n",
    "d = 2\n",
    "L = 80        # system size\n",
    "chi_max = 10          # Maximal bond dimension                            \n",
    "n = 10   # Number of zips\n",
    "h_x, h_y, h_z = 0.5, 0.9, 0.5  # Field in the different directions\n",
    "J_xx, J_yy, J_zz = 1.5, 0.2, 1.5  # Strength of spin interactions\n",
    "Model = [[\"z\"],[\"x\"]]     # The first part of the model gives us the spin interaction and the second one the fields\n",
    "chi_MPO = len(Model[0]) + 2 \n",
    "t = 15\n",
    "\n",
    "Interactions, Fields = Model_coefficients(J_xx,J_yy,J_zz,h_x,h_y,h_z)\n",
    "          \n",
    "chis = ka(L,chi_max)\n",
    "# Create MPO\n",
    "W = Create_MPO(Model, S1, Interactions, Fields, chi_MPO, data_type)\n",
    "# Create the MPS\n",
    "Gamma,Lambda = Create_random_MPS(L,chis)\n",
    "# Convert to right and left A,B canonical form\n",
    "A,B = Convert_to_A_and_B(Gamma,Lambda,L)\n",
    "\n",
    "# Left and Right vectors\n",
    "v_L,v_R=np.zeros(chi_MPO,dtype=np.complex_),np.zeros(chi_MPO,dtype=np.complex_)\n",
    "v_L[0],v_R[-1]=1.+0j,1.+0j\n",
    "\n",
    "# Initialise Left and Right environments\n",
    "L_env=[np.zeros((chis[j],chi_MPO,chis[j]),dtype=np.complex_)for j in range(L)]\n",
    "R_env=[np.zeros((chis[j+1],chi_MPO,chis[j+1]),dtype=np.complex_)for j in range(L)]\n",
    "\n",
    "L_env[0]=np.einsum(\"ab,c->acb\",np.eye(chis[0],dtype=np.complex_),v_L)\n",
    "R_env[-1]=np.einsum(\"ab,c->acb\",np.eye(chis[-1],dtype=np.complex_),v_R)\n",
    "\n",
    "# Set the Right environment\n",
    "for j in range(L-1,0,-1):\n",
    "    R_env[j-1]=np.einsum(\"dja,ebji->debia\",B[j+1],W)\n",
    "    R_env[j-1]=np.einsum(\"debia,fic->debfca\",R_env[j-1],np.conj(B[j+1]))\n",
    "    R_env[j-1]=np.einsum(\"debfca,abc->def\",R_env[j-1],R_env[j])\n",
    "print(\"Initiated right environment\")\n",
    "# Calculating the inverse of the singular values \n",
    "vi=[]\n",
    "for j in range(len(Lambda)):\n",
    "  vi.append(np.divide(1.0, Lambda[j], out=np.zeros_like(Lambda[j]), where=np.abs(Lambda[j])>=1E-14))\n",
    "vi.append([1.])\n",
    "sluchaino = Lambda[L//2][0:chi_max]"
   ]
  },
  {
   "cell_type": "code",
   "execution_count": 16,
   "metadata": {},
   "outputs": [
    {
     "name": "stdout",
     "output_type": "stream",
     "text": [
      "DMRG step: 0\n",
      "DMRG step: 1\n",
      "DMRG step: 2\n",
      "DMRG done\n",
      "Minimized energy - B - Mps approach -121.94169597748764\n",
      "Minimized energy per site - B - Mps approach -1.5242711997185956\n"
     ]
    }
   ],
   "source": [
    "#DMRG cycle\n",
    "delta = 3\n",
    "step = 0\n",
    "energy = Exp_value_B(B, L, W, chi_MPO)\n",
    "\n",
    "while np.abs(delta)>10E-9 and step<30:\n",
    "   print(\"DMRG step:\",step)\n",
    "   #Right sweep\n",
    "   for j in range(L-2):\n",
    "    # Evaluate the Hamiltonian\n",
    "    H = np.einsum(\"abc,bdij->adijc\",L_env[j],W) \n",
    "    H = np.einsum(\"adijc,dekl->aekl ijc\",H,W)\n",
    "    H = np.einsum(\"aekl ijc,feg->aikf cjlg\",H,R_env[j+1]).reshape((chis[j]*chis[j+2]*d**2,chis[j]*chis[j+2]*d**2))\n",
    "\n",
    "    # Calculate the eigenvalues and eigenvectors\n",
    "    O = LinearOperator((chis[j]*chis[j+2]*d**2,chis[j]*chis[j+2]*d**2), matvec=H_mult)\n",
    "    Theta = np.einsum(\"a,aib->aib\",Lambda[j],B[j+1])\n",
    "    Theta = np.einsum(\"aib,bjc->aijc\",B[j+1],B[j+2]).reshape(chis[j]*chis[j+2]*d**2)\n",
    "    \n",
    "    # Find the ground state\n",
    "    w, v = eigsh(O,k=1,v0=Theta,which=\"SA\",maxiter = 1000000)\n",
    " \n",
    "    # Compute the new 2-site Wave Function\n",
    "    Theta_p = v[:,0].reshape(chis[j]*d,chis[j+2]*d)\n",
    "\n",
    "    # Truncate the wave function\n",
    "    Sigma,lam,D = truncate(j,Theta_p,chis,L,d=2)\n",
    "    \n",
    "    # Update A\n",
    "    A[j] = Sigma\n",
    "    Lambda[j+1] = lam\n",
    "\n",
    "    vi[j+1] = np.divide(1.0, lam, out=np.zeros_like(lam), where=np.abs(lam)>=1E-14)\n",
    "\n",
    "    # Update sites j+1\n",
    "    A[j+1] = np.einsum(\"a,aib,b->aib\",lam,D,vi[j+2])\n",
    "    B[j+1] = np.einsum(\"a,aib,b->aib\",vi[j],Sigma,lam)\n",
    "    \n",
    "    # Update L_env\n",
    "    L_env[j+1] = np.einsum(\"abc,ajd->jdbc\",L_env[j],Sigma)\n",
    "    L_env[j+1] = np.einsum(\"jdbc,beji->deci\",L_env[j+1],W)\n",
    "    L_env[j+1] = np.einsum(\"deci,cif->def\",L_env[j+1],np.conj(Sigma))\n",
    "   #Left sweep\n",
    "   for j in range(L-2,-1,-1):\n",
    "    # Evaluate the Hamiltonian\n",
    "    H = np.einsum(\"abc,bdij->adijc\",L_env[j],W)\n",
    "    H = np.einsum(\"adijc,dekl->aekl ijc\",H,W)\n",
    "    H = np.einsum(\"aekl ijc,feg->aikf cjlg\",H,R_env[j+1]).reshape((chis[j]*chis[j+2]*d**2,chis[j]*chis[j+2]*d**2))\n",
    " \n",
    "    # Calculate the eigenvalues and eigenvectors\n",
    "    O = LinearOperator((chis[j]*chis[j+2]*d**2,chis[j]*chis[j+2]*d**2), matvec = H_mult)\n",
    "    Theta = np.einsum(\"a,aib->aib\",Lambda[j],B[j+1])\n",
    "    Theta = np.einsum(\"aib,bjc->aijc\",B[j+1],B[j+2]).reshape(chis[j]*chis[j+2]*d**2)\n",
    "\n",
    "    w, v = eigsh(O,k=1,v0=Theta,which=\"SA\",maxiter = 1000000)\n",
    "    # Compute the new 2-site Wave Function \n",
    "    Theta_p=v[:,0].reshape(chis[j]*d,chis[j+2]*d)\n",
    "   \n",
    "    Sigma,lam,D = truncate(j,Theta_p,chis,L ,d=2)\n",
    "\n",
    "    B[j+2] = D\n",
    "    Lambda[j+1] = lam\n",
    "\n",
    "    vi[j+1] = np.divide(1.0, lam, out=np.zeros_like(lam), where=np.abs(lam)>=1E-14)\n",
    "\n",
    "    # Update sites j+1\n",
    "    B[j+1] = np.einsum(\"a,aib->aib\",vi[j],Sigma)\n",
    "    B[j+1] = np.einsum(\"aib,b->aib\",B[j+1],lam)\n",
    "\n",
    "    A[j+1] = np.einsum(\"a,aib->aib\",lam,D)\n",
    "    A[j+1] = np.einsum(\"aib,b->aib\",A[j+1],vi[j+2])\n",
    "  \n",
    "    # Update R_env\n",
    "    R_env[j] = np.einsum(\"dja,ebji->debia\",D,W)\n",
    "    R_env[j] = np.einsum(\"debia,fic->debfca\",R_env[j],np.conj(D))\n",
    "    R_env[j] = np.einsum(\"debfca,abc->def\",R_env[j],R_env[j+1])\n",
    "\n",
    "   delta = Exp_value_B(B, L, W, chi_MPO) - energy\n",
    "   energy = Exp_value_B(B, L, W, chi_MPO)  \n",
    "   #print(delta)\n",
    "   step+=1\n",
    "\n",
    "print(\"DMRG done\")\n",
    "\n",
    "\n",
    "print(\"Minimized energy - B - Mps approach\",Exp_value_B(B, L, W, chi_MPO))\n",
    "\n",
    "print(\"Minimized energy per site - B - Mps approach\",Exp_value_B(B, L, W, chi_MPO)/L)"
   ]
  },
  {
   "cell_type": "markdown",
   "metadata": {},
   "source": [
    "Comparison"
   ]
  },
  {
   "cell_type": "markdown",
   "metadata": {},
   "source": [
    "-121.94169597748738"
   ]
  },
  {
   "cell_type": "code",
   "execution_count": 16,
   "metadata": {},
   "outputs": [
    {
     "name": "stdout",
     "output_type": "stream",
     "text": [
      "Hermiticity check passed!\n"
     ]
    },
    {
     "name": "stderr",
     "output_type": "stream",
     "text": [
      "C:\\Users\\hgton\\AppData\\Local\\Temp/ipykernel_23152/3903703696.py:7: UserWarning: Test for symmetries not implemented for <class 'quspin.basis.basis_1d.spin.spin_basis_1d'>, to turn off this warning set check_symm=False in hamiltonian\n",
      "  H_ZZX = hamiltonian(static,dynamic,basis=basis)\n"
     ]
    },
    {
     "name": "stdout",
     "output_type": "stream",
     "text": [
      "Ground state energy -17.088117573456046\n"
     ]
    }
   ],
   "source": [
    "from quspin.basis import spin_basis_1d \n",
    "basis = spin_basis_1d(L,pauli=True) # Hilbert space-boson basis\n",
    "J = [[J_zz,i,i+1] for i in range(L-1)] \n",
    "H=[[h_x,i] for i in range(L)]\n",
    "static = [[\"zz\",J],[\"x\",H]]\n",
    "dynamic=[]\n",
    "H_ZZX = hamiltonian(static,dynamic,basis=basis)\n",
    "E,V=H_ZZX.eigh()\n",
    "#E_min=E[0]\n",
    "print(\"Ground state energy\",E[0])"
   ]
  },
  {
   "cell_type": "markdown",
   "metadata": {},
   "source": [
    "Drawing Figures "
   ]
  },
  {
   "cell_type": "code",
   "execution_count": 17,
   "metadata": {},
   "outputs": [
    {
     "data": {
      "image/png": "[encoded data removed]",
      "text/plain": [
       "<Figure size 480x320 with 1 Axes>"
      ]
     },
     "metadata": {
      "needs_background": "light"
     },
     "output_type": "display_data"
    }
   ],
   "source": [
    "from matplotlib.ticker import MaxNLocator\n",
    "import os\n",
    "os.environ[\"PATH\"] += ':/usr/local/texlive/2015/bin/x86_64-darwin'\n",
    "\n",
    "x = np.arange(1,chi_max+1,1)\n",
    "slx = np.arange(1,len(sluchaino)+1,1)\n",
    "fig, ax = plt.subplots(dpi = 80)\n",
    "#ax = fig.add_subplot(x,lamb[L//2][0:20])\n",
    "#line, = ax.plot(x, lamb[L//2][0:t], c='b', marker='o')\n",
    "ax.set_yscale('log')\n",
    "ax.xaxis.set_major_locator(MaxNLocator(integer=True))\n",
    "\n",
    "plt.xlabel(r'$\\alpha$',fontsize=18)\n",
    "plt.ylabel(r'$\\Lambda_\\alpha^2$',fontsize=18)\n",
    "plt.scatter(x, Lambda[L//2][:chi_max], s=40, c='b', marker='o',label  = r\"$|\\psi_0 \\rangle$\")\n",
    "plt.scatter(slx,sluchaino, s=40, c='r', marker='o',label  = r\"$|\\psi_{random} \\rangle$\")\n",
    "plt.legend(fontsize = 14)\n",
    "plt.rc('text', usetex=True)\n",
    "plt.rc('font', family='serif')\n",
    "plt.tick_params(labelsize=14)\n",
    "plt.show()\n",
    "#fig = plt.gcf()\n",
    "#plt.savefig(\"nasheto.pdf\")"
   ]
  },
  {
   "cell_type": "code",
   "execution_count": null,
   "metadata": {},
   "outputs": [],
   "source": []
  }
 ],
 "metadata": {
  "interpreter": {
   "hash": "cc14ccd3e667fcadedd63288f9d887aa62f59ed1c58cf76862d7d0abc3120edd"
  },
  "kernelspec": {
   "display_name": "Python 3.9.7 ('base')",
   "language": "python",
   "name": "python3"
  },
  "language_info": {
   "codemirror_mode": {
    "name": "ipython",
    "version": 3
   },
   "file_extension": ".py",
   "mimetype": "text/x-python",
   "name": "python",
   "nbconvert_exporter": "python",
   "pygments_lexer": "ipython3",
   "version": "3.9.7"
  },
  "orig_nbformat": 4
 },
 "nbformat": 4,
 "nbformat_minor": 2
}
