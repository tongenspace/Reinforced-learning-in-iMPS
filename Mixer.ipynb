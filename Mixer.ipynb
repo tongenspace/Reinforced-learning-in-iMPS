{
 "cells": [
  {
   "cell_type": "code",
   "execution_count": 55,
   "metadata": {},
   "outputs": [],
   "source": [
    "import numpy as np\n",
    "from Library import Convert_to_A_and_B, ka, Create_MPO, Pauli, Model_coefficients, Entropy, Create_random_MPS\n",
    "\n",
    "def LRW_mult(v):\n",
    "    return np.matmul(LRW,v)\n",
    "\n",
    "def Exp_value_B(B, L, W, v_L, v_R):\n",
    "  Env = np.einsum(\"a,b,c->abc\",B[0],v_L,B[0])\n",
    "  \n",
    "  for j in range(1,L+1):\n",
    "    Env = np.einsum(\"abc,ajd->djbc\",Env,B[j])\n",
    "    Env = np.einsum(\"djbc,beji->deic\",Env,W)\n",
    "    Env = np.einsum(\"deic,cif->def\",Env,np.conj(B[j]))\n",
    "  Energy = np.einsum(\"ded,e->\",Env,v_R)\n",
    "  return Energy.real\n",
    "\n",
    "def New_Energy(L_env,B,W,R_env):\n",
    "  Energy = np.einsum(\"abc,aid->dibc\",L_env,B)\n",
    "  Energy = np.einsum(\"dibc,beij->dejc\",Energy,W)\n",
    "  Energy = np.einsum(\"dejc,def->cjf\",Energy,R_env)\n",
    "  Energy = np.einsum(\"cjf,cjf->\",Energy,np.conj(B))\n",
    "  return Energy.real\n",
    "  \n",
    "def Update_L(L_env,A,W):\n",
    "    Lev = np.einsum(\"abc,ajd->jdbc\",L_env,A)\n",
    "    Lev = np.einsum(\"jdbc,beji->deci\",Lev,W)\n",
    "    Lev = np.einsum(\"deci,cif->def\",Lev,np.conj(A))\n",
    "    return Lev \n",
    "  \n"
   ]
  },
  {
   "cell_type": "code",
   "execution_count": 49,
   "metadata": {},
   "outputs": [
    {
     "name": "stdout",
     "output_type": "stream",
     "text": [
      "1 4 chis1\n",
      "(1, 3, 1) (2, 2, 4) (1, 3, 1)\n",
      "1\n",
      "(1, 2, 2)\n"
     ]
    }
   ],
   "source": [
    "from numpy import linalg as LA\n",
    "from scipy.sparse.linalg import eigsh\n",
    "from scipy.sparse.linalg import LinearOperator\n",
    "import matplotlib.pyplot as plt\n",
    "\n",
    "data_type=np.complex128\n",
    "S_z, S_x, S_y, S1 = Pauli()\n",
    "\n",
    "d = 2\n",
    "L = 80        # system size\n",
    "chi_max = 8          # Maximal bond dimension                            \n",
    "#n = 10   # Number of zips\n",
    "h_x, h_y, h_z = 0.1, 0.9, 0.1  # Field in the different directions\n",
    "J_xx, J_yy, J_zz = 1., 0.2, 1  # Strength of spin interactions\n",
    "Model = [[\"x\"],[\"z\"]]     # The first part of the model gives us the spin interaction and the second one the fields\n",
    "chi_MPO = len(Model[0]) + 2 \n",
    "\n",
    "Interactions, Fields = Model_coefficients(J_xx,J_yy,J_zz,h_x,h_y,h_z)\n",
    "          \n",
    "chis = ka(L,chi_max)\n",
    "\n",
    "# Create MPO\n",
    "W = Create_MPO(Model, S1, Interactions, Fields, chi_MPO, data_type)\n",
    "# Create the MPS\n",
    "Gamma,Lambda = Create_random_MPS(L,chis)\n",
    "# Convert to right and left A,B canonical form\n",
    "A,B = Convert_to_A_and_B(Gamma,Lambda,L)\n",
    "B[0] = np.array([1.])\n",
    "\n",
    "# Left and Right vectors\n",
    "v_L,v_R=np.zeros(chi_MPO,dtype=np.complex_),np.zeros(chi_MPO,dtype=np.complex_)\n",
    "v_L[0],v_R[-1]=1.+0j,1.+0j\n",
    "\n",
    "# Initialise Left and Right environments\n",
    "L_env=[np.zeros((chis[j],chi_MPO,chis[j]),dtype=np.complex_)for j in range(L+1)]\n",
    "R_env=[np.zeros((chis[j],chi_MPO,chis[j]),dtype=np.complex_)for j in range(L+1)]\n",
    "\n",
    "L_env[0]=np.array(np.einsum(\"ab,c->acb\",np.eye(chis[0],dtype=np.complex_),v_L))\n",
    "R_env[-1]=np.einsum(\"ab,c->acb\",np.eye(chis[-1],dtype=np.complex_),v_R)\n",
    "\n",
    "# Set the Right environment\n",
    "for j in range(L-1,0,-1):    \n",
    "     R_env[j]=np.einsum(\"ebji,dja->debia\",W,B[j+1])\n",
    "     R_env[j]=np.einsum(\"fic,debia->debfca\",np.conj(B[j+1]),R_env[j])\n",
    "     R_env[j]=np.einsum(\"abc,debfca->def\",R_env[j+1],R_env[j])\n",
    "# Calculating the inverse of the singular values \n",
    "vi=[]\n",
    "for j in range(len(Lambda)):\n",
    "  vi.append(np.divide(1.0, Lambda[j], out=np.zeros_like(Lambda[j]), where=np.abs(Lambda[j])>=1E-14))\n",
    "vi.append([1.])\n",
    "i = 0\n",
    "print(chis[i],chis[i+2],\"chis1\")\n",
    "print(L_env[i].shape,B[i+2].shape,R_env[i].shape)\n",
    "print(chis[i])\n",
    "print(A[i].shape)\n"
   ]
  },
  {
   "cell_type": "code",
   "execution_count": 73,
   "metadata": {},
   "outputs": [
    {
     "name": "stdout",
     "output_type": "stream",
     "text": [
      "step 0\n",
      "step 1\n",
      "step 2\n",
      "step 3\n",
      "step 4\n",
      "step 5\n",
      "step 6\n",
      "step 7\n",
      "step 8\n",
      "step 9\n",
      "step 10\n",
      "step 11\n",
      "step 12\n",
      "step 13\n",
      "step 14\n",
      "step 15\n",
      "step 16\n",
      "step 17\n",
      "step 18\n",
      "step 19\n",
      "step 20\n",
      "step 21\n",
      "step 22\n",
      "step 23\n",
      "step 24\n",
      "step 25\n",
      "step 26\n",
      "step 27\n",
      "step 28\n",
      "step 29\n",
      "step 30\n",
      "step 31\n",
      "step 32\n",
      "step 33\n",
      "step 34\n",
      "step 35\n",
      "step 36\n",
      "step 37\n",
      "step 38\n",
      "step 39\n"
     ]
    }
   ],
   "source": [
    "M = []\n",
    "delta = 2\n",
    "step = 0\n",
    "lambda_p = []\n",
    "alpha = 0.9\n",
    "while np.abs(delta)>10E-9 and step<40:\n",
    "  print(\"step\",step)\n",
    "  #print(\"Mixer step:\",step)\n",
    "  for j in range(L-1):\n",
    "    #\"print(\"site\",j)\n",
    "   \n",
    "    # Optimize the tensor Mi\n",
    "    LRW = np.einsum(\"abc,bdij -> adijc\",R_env[j+1],W) \n",
    "    LRW = np.einsum(\"adijc,vdm-> avijcm\",LRW,L_env[j]).reshape((chis[j]*chis[j+1]*d,chis[j]*chis[j+1]*d))\n",
    "     \n",
    "    if step < 1 :\n",
    "     w, v = LA.eigh(LRW)\n",
    "     lambdap = w[0]\n",
    "     M.append(v[:,0])\n",
    "    else:\n",
    "     O = LinearOperator((chis[j]*chis[j+1]*d,chis[j]*chis[j+1]*d), matvec = LRW_mult)\n",
    "     w, v = eigsh(O,k=1,v0 = M[j] ,which= \"SA\",maxiter = 100000,tol=10E-9)\n",
    "     lambdap = w[0]\n",
    "     M[j] = v[:,0] \n",
    "    M_p = M[j].reshape((chis[j],d,chis[j+1]))\n",
    "     \n",
    "    Pi = alpha*np.einsum(\"abc,aid -> cibd\", L_env[j], M_p)\n",
    "    Pi = np.einsum(\"cibd,bkij->ckjd\",Pi,W)\n",
    "    \n",
    "    Zero_block = np.zeros((chis[j+1],chi_MPO,d,chis[j+2]))\n",
    "    \n",
    "    # Where do I update gamma, why do I use Gamma?\n",
    "    \n",
    "    B_block = np.array([B[j+2],Zero_block[:,0,:,:],Zero_block[:,1,:,:],Zero_block[:,2,:,:]]).reshape(d*chis[j+1],(1+chi_MPO)*chis[j+2])\n",
    "    M_block_p = np.array([M_p,Pi[:,0,:,:],Pi[:,1,:,:],Pi[:,2,:,:]]).reshape(d*chis[j],(1+chi_MPO)*chis[j+1])\n",
    "   \n",
    "    \n",
    "    S,V,D = LA.svd(M_block_p,full_matrices = False)\n",
    "   \n",
    "    A[j] = S[:,:chis[j+1]].reshape(chis[j],d,chis[j+1])\n",
    "    VD = np.einsum(\"a,ab->ab\",V[:chis[j+1]],D[:chis[j+1],:d*chis[j+1]])         # chis[j+1] x d*chis[j+1]\n",
    "    B[j+2] = np.einsum(\"ab,bh -> ah \",VD,B_block)[:,:d*chis[j+2]].reshape(chis[j+1],d,chis[j+2])   # chis[j+1] x (1+chi_MPO)*chis[j+1]\n",
    "    \n",
    "    #print(L_env[j].shape,\"l I A\")\n",
    "\n",
    "    L_env[j+1] = Update_L(L_env[j],A[j],W)\n",
    "    \n",
    "    #print(L_env[j].shape,\"L env J\",B[j].shape)\n",
    "    #print(A[j].shape,\"A shape\")\n",
    "    #New_en = New_Energy(L_env[j],B[j],W,R_env[j+1])\n",
    "   \n",
    "  step+=1\n",
    "  alpha *= alpha\n",
    "  lambda_p.append(lambdap)\n",
    "   "
   ]
  },
  {
   "cell_type": "code",
   "execution_count": 74,
   "metadata": {},
   "outputs": [
    {
     "data": {
      "text/plain": [
       "[<matplotlib.lines.Line2D at 0x1860c1d95e0>]"
      ]
     },
     "execution_count": 74,
     "metadata": {},
     "output_type": "execute_result"
    },
    {
     "data": {
      "image/png": "[encoded data removed]",
      "text/plain": [
       "<Figure size 432x288 with 1 Axes>"
      ]
     },
     "metadata": {
      "needs_background": "light"
     },
     "output_type": "display_data"
    }
   ],
   "source": [
    "plt.plot(lambda_p)"
   ]
  },
  {
   "cell_type": "code",
   "execution_count": 44,
   "metadata": {},
   "outputs": [
    {
     "name": "stdout",
     "output_type": "stream",
     "text": [
      "(3, 3)\n",
      "(3,)\n",
      "(3, 4)\n"
     ]
    }
   ],
   "source": [
    "D = np.arange(12).reshape(3,4)\n",
    "Mu,Nu,Su = LA.svd(D,full_matrices=False)\n",
    "print(Mu.shape)\n",
    "print(Nu.shape)\n",
    "print(Su.shape)"
   ]
  },
  {
   "cell_type": "code",
   "execution_count": null,
   "metadata": {},
   "outputs": [],
   "source": []
  }
 ],
 "metadata": {
  "interpreter": {
   "hash": "cc14ccd3e667fcadedd63288f9d887aa62f59ed1c58cf76862d7d0abc3120edd"
  },
  "kernelspec": {
   "display_name": "Python 3.9.7 ('base')",
   "language": "python",
   "name": "python3"
  },
  "language_info": {
   "codemirror_mode": {
    "name": "ipython",
    "version": 3
   },
   "file_extension": ".py",
   "mimetype": "text/x-python",
   "name": "python",
   "nbconvert_exporter": "python",
   "pygments_lexer": "ipython3",
   "version": "3.9.7"
  },
  "orig_nbformat": 4
 },
 "nbformat": 4,
 "nbformat_minor": 2
}
