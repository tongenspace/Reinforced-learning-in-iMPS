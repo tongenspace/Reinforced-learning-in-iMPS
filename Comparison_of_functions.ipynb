{
  "nbformat": 4,
  "nbformat_minor": 0,
  "metadata": {
    "colab": {
      "provenance": [],
      "toc_visible": true
    },
    "kernelspec": {
      "name": "python3",
      "display_name": "Python 3"
    },
    "language_info": {
      "name": "python"
    }
  },
  "cells": [
    {
      "cell_type": "markdown",
      "source": [
        "The first block of code just inserts libraries and constants to be used later."
      ],
      "metadata": {
        "id": "gMaYqugIEQ-s"
      }
    },
    {
      "cell_type": "code",
      "execution_count": null,
      "metadata": {
        "id": "ryKKpqPbAfnV"
      },
      "outputs": [],
      "source": [
        "import jax.numpy as jnp\n",
        "\n",
        "from jax import jit\n",
        "\n",
        "from jax import lax\n",
        "import jax\n",
        "from jax import make_jaxpr\n",
        "from jax import random\n",
        "from jax import device_put\n",
        "\n",
        "import numpy as np\n",
        "from numpy import linalg as LA\n",
        "import matplotlib.pyplot as plt\n",
        "\n",
        "d = 2\n",
        "chi = 4\n",
        "h_x, h_y, h_z = np.sqrt(3)/2 , np.log(2), 0.4 # Field in the different directions\n",
        "J_xx, J_yy, J_zz = .5, .5, .5 # Strength of spin interactions\n",
        "Model = [[\"xx\"],[\"z\",\"y\"]]   \n",
        "lam_0,Gamma_0,lam_1,Gamma_1 = np.random.rand(chi), np.random.rand(2*chi**2).reshape(chi,2,chi), np.random.rand(chi), np.random.rand(2*chi**2).reshape(chi,2,chi)\n",
        "U = np.random.rand(16).reshape(2,2,2,2)\n",
        "\n",
        "@jit\n",
        "def division(x):  \n",
        "    return jnp.where(x == 0, 0., 1 / x)\n",
        "\n",
        "def Model_coefficients(J_xx,J_yy,J_zz,h_x,h_y,h_z):\n",
        "  Interactions = {\n",
        "                  \"xx\":J_xx,\n",
        "                  \"yy\":J_yy,\n",
        "                  \"zz\":J_zz}\n",
        "  Fields = {\n",
        "          \"x\":h_x,  #Fields\n",
        "          \"y\":h_y,\n",
        "          \"z\":h_z}\n",
        "  return Interactions,Fields\n",
        "  \n",
        "Interactions,Fields = Model_coefficients(J_xx,J_yy,J_zz,h_x,h_y,h_z)\n",
        "data_type = complex"
      ]
    },
    {
      "cell_type": "code",
      "source": [
        "@jit  #Checked\n",
        "def Entropy(v):\n",
        "  return -jnp.sum(jnp.where(v == 0, 0., jnp.log(v))*v)\n",
        "\n",
        "def Entropy_non_jit(v):\n",
        "  return -np.sum(np.where(v == 0, 0. , np.log(v)*v))\n",
        "\n",
        "# Comparison\n",
        "rand_vec = np.random.rand(chi)\n",
        "print(LA.norm(Entropy(rand_vec) - Entropy_non_jit(rand_vec)))"
      ],
      "metadata": {
        "colab": {
          "base_uri": "https://localhost:8080/"
        },
        "id": "VxbubbrWAmrO",
        "outputId": "0e22d3f8-06b1-46e3-ff47-12b5be9a4ae8"
      },
      "execution_count": null,
      "outputs": [
        {
          "output_type": "stream",
          "name": "stdout",
          "text": [
            "0.0\n"
          ]
        }
      ]
    },
    {
      "cell_type": "code",
      "source": [
        "@jit #checked\n",
        "def Pauli_jaxed():\n",
        "  S_z = jnp.array([[1.,0.],[0.,-1.]],dtype = complex)\n",
        "  S_x = jnp.array([[0.,1.],[1.,0.]] ,dtype = complex)\n",
        "  S_y = jnp.array([[0.,complex(0,-1.)],[complex(0,1.),0.]],dtype = complex) #Pauli Matrices\n",
        "  S1 = {\n",
        "     \"x\" : S_x,\n",
        "     \"xx\": S_x, \n",
        "     \"y\" : S_y,\n",
        "     \"yy\": S_y, \n",
        "     \"z\" : S_z,\n",
        "     \"zz\": S_z }\n",
        "  return S_z, S_x, S_y, S1\n",
        "\n",
        "\n",
        "def Pauli():\n",
        "  S_z = np.diag([1.,-1.]).astype(np.complex128)\n",
        "  S_x = np.array([[0.,1.],[1.,0.]],dtype = np.complex128)\n",
        "  S_y = np.array([[0.,complex(0,-1.)],[complex(0,1.),0.]],dtype = np.complex128) #Pauli Matrices\n",
        "  S1 = {\n",
        "     \"x\" : S_x,\n",
        "     \"xx\": S_x, \n",
        "     \"y\" : S_y,\n",
        "     \"yy\": S_y, \n",
        "     \"z\" : S_z,\n",
        "     \"zz\": S_z }\n",
        "  return S_z, S_x, S_y, S1\n",
        "S_z, S_x, S_y, S1 = Pauli()\n",
        "\n",
        "# Comparison\n",
        "print(LA.norm(Pauli()[2]-Pauli_jaxed()[2]))"
      ],
      "metadata": {
        "colab": {
          "base_uri": "https://localhost:8080/"
        },
        "id": "1RN9DRroBbH2",
        "outputId": "fd9bc0bc-dcb1-4505-8dc5-603c7fef20bd"
      },
      "execution_count": null,
      "outputs": [
        {
          "output_type": "stream",
          "name": "stdout",
          "text": [
            "0.0\n"
          ]
        }
      ]
    },
    {
      "cell_type": "code",
      "source": [
        "def Create_HamiltonianTEBD_non_jit(Model, S1, Interactions, Fields,d):\n",
        "    H = np.zeros((d,d,d,d)).astype(np.complex128)\n",
        "\n",
        "    for j in range(len(Model[0])):\n",
        "      H += np.einsum(\"ij,kl->ikjl\",2*Interactions[Model[0][j]]*S1[Model[0][j]],S1[Model[0][j]]) #two-site\n",
        "\n",
        "    for k in range(len(Model[1])):\n",
        "      H += np.einsum(\"ij,kl->ikjl\",Fields[Model[1][k]]*S1[Model[1][k]],np.diag(np.ones(2)))    #on-site\n",
        "      H += np.einsum(\"ij,kl->ikjl\",np.diag(np.ones(2)),Fields[Model[1][k]]*S1[Model[1][k]])\n",
        "    return H\n",
        "\n",
        "def Create_HamiltonianTEBD_jit(Model, S1, Interactions, Fields,d):\n",
        "    H = jnp.zeros((d,d,d,d)).astype(complex)\n",
        "\n",
        "    for j in range(len(Model[0])):\n",
        "      H += jnp.einsum(\"ij,kl->ikjl\",2*Interactions[Model[0][j]]*S1[Model[0][j]],S1[Model[0][j]]) #two-site\n",
        "\n",
        "    for k in range(len(Model[1])):\n",
        "      H += jnp.einsum(\"ij,kl->ikjl\",Fields[Model[1][k]]*S1[Model[1][k]],jnp.diag(np.ones(2)))    #on-site\n",
        "      H += jnp.einsum(\"ij,kl->ikjl\",jnp.diag(np.ones(2)),Fields[Model[1][k]]*S1[Model[1][k]])\n",
        "    return H\n",
        "\n",
        "H_jit = Create_HamiltonianTEBD_jit(Model, S1, Interactions, Fields,d)\n",
        "H_non_jit = Create_HamiltonianTEBD_non_jit(Model, S1, Interactions, Fields,d)\n",
        "# Comparison\n",
        "print(LA.norm(H_jit-H_non_jit))"
      ],
      "metadata": {
        "colab": {
          "base_uri": "https://localhost:8080/"
        },
        "id": "ltxnFN0fCiRm",
        "outputId": "c5a9d34c-bd47-4db7-c5f9-00ca8afde407"
      },
      "execution_count": null,
      "outputs": [
        {
          "output_type": "stream",
          "name": "stdout",
          "text": [
            "0.0\n"
          ]
        }
      ]
    },
    {
      "cell_type": "code",
      "source": [
        "\n",
        "def Compute_Theta_optimized(lam_0,Gamma_0,lam_1,Gamma_1):\n",
        "    # This approach we can't jit because of einsum \n",
        "    Theta1 = jnp.einsum(\"a,aib->aib\",lam_0,Gamma_0)\n",
        "    Theta1 = jnp.einsum(\"aib,b->aib\",Theta1,lam_1)\n",
        "    Theta1 = jnp.einsum(\"aib,bjc->aijc\",Theta1,Gamma_1)\n",
        "    Theta1 = jnp.einsum(\"aijc,c->aijc\",Theta1,lam_0)\n",
        "    \n",
        "    # This one we can\n",
        "    Theta=jnp.tensordot(jnp.diag(lam_0),Gamma_0,axes = 1)\n",
        "    Theta=jnp.tensordot(Theta,jnp.diag(lam_1),axes = 1)\n",
        "    Theta=jnp.tensordot(Theta,Gamma_1,axes = 1)\n",
        "    Theta=jnp.tensordot(Theta,jnp.diag(lam_0),axes = 1)\n",
        "\n",
        "    return Theta, Theta1\n",
        "\n",
        "def Compute_Theta_non_jit(lam_0,Gamma_0,lam_1,Gamma_1):\n",
        "    Theta = np.einsum(\"a,aib->aib\",lam_0,Gamma_0)\n",
        "    Theta = np.einsum(\"aib,b->aib\",Theta,lam_1)\n",
        "    Theta = np.einsum(\"aib,bjc->aijc\",Theta,Gamma_1)\n",
        "    Theta = np.einsum(\"aijc,c->aijc\",Theta,lam_0)\n",
        "\n",
        "    return Theta\n",
        "# Comparison\n",
        "print(type(lam_0[0]))\n",
        "print(np.finfo(np.float64).eps,\"\\n\")\n",
        "\n",
        "print(LA.norm(Compute_Theta_optimized(lam_0,Gamma_0,lam_1,Gamma_1)[0]-Compute_Theta_non_jit(lam_0,Gamma_0,lam_1,Gamma_1)),\"Compariosn using jnp.tensordot, where we can jit the function\")\n",
        "\n",
        "print(LA.norm(Compute_Theta_optimized(lam_0,Gamma_0,lam_1,Gamma_1)[1]-Compute_Theta_non_jit(lam_0,Gamma_0,lam_1,Gamma_1)),\"Compariosn using jnp.einsum\")"
      ],
      "metadata": {
        "id": "GPu6wtPUEtlh",
        "colab": {
          "base_uri": "https://localhost:8080/"
        },
        "outputId": "9d02938d-a622-4787-e9ed-0e7133a09702"
      },
      "execution_count": null,
      "outputs": [
        {
          "output_type": "stream",
          "name": "stdout",
          "text": [
            "<class 'numpy.float64'>\n",
            "2.220446049250313e-16 \n",
            "\n",
            "2.420375e-08 Compariosn using jnp.tensordot, where we can jit the function\n",
            "2.420375e-08 Compariosn using jnp.einsum\n"
          ]
        }
      ]
    },
    {
      "cell_type": "code",
      "source": [
        "@jit\n",
        "def i_trunc_opt(Fs,d=2):\n",
        "  chi = 4\n",
        "  S,V,D = jnp.linalg.svd(Fs)\n",
        "  VI = jax.lax.dynamic_slice(V, (0,), (chi,))  \n",
        "  lam = VI/jnp.linalg.norm(VI)\n",
        "  \n",
        "  A = jax.lax.dynamic_slice(S, (0,0), (chi*d,chi))  \n",
        "  A = A.reshape(chi,d,chi)\n",
        "  \n",
        "  B = jax.lax.dynamic_slice(D, (0,0), (chi,chi*d))  \n",
        "  B = B.reshape(chi,d,chi)\n",
        "  \n",
        "  return A,lam,B\n",
        "\n",
        "\n",
        "def i_trunc_non_jit(chi,Fs,d=2):\n",
        "  S,V,D = LA.svd(Fs,full_matrices=False)\n",
        "    \n",
        "  lam = V[:chi]/np.linalg.norm(V[:chi])\n",
        "\n",
        "  A=S[:,:chi].reshape(chi,d,chi)\n",
        "  B=D[:chi].reshape(chi,d,chi)\n",
        "  \n",
        "  return A,lam,B\n",
        "# Comparison\n",
        "Fs = np.random.rand(chi*chi*4).reshape(chi*2,chi*2)\n",
        "print(type(Fs[0][0]))\n",
        "print(np.finfo(np.float64).eps,\"\\n\")\n",
        "\n",
        "print(LA.norm(i_trunc_non_jit(chi,Fs)[0] - i_trunc_opt(Fs)[0]))\n",
        "\n",
        "print(LA.norm(i_trunc_non_jit(chi,Fs)[1] - i_trunc_opt(Fs)[1]))\n",
        "\n",
        "print(LA.norm(i_trunc_non_jit(chi,Fs)[2] - i_trunc_opt(Fs)[2]))\n",
        "\n",
        "print(i_trunc_non_jit(chi,Fs)[0])"
      ],
      "metadata": {
        "id": "MTx2n0quhPeC",
        "colab": {
          "base_uri": "https://localhost:8080/"
        },
        "outputId": "dba57176-63c2-4837-f452-1488c636e2ae"
      },
      "execution_count": null,
      "outputs": [
        {
          "output_type": "stream",
          "name": "stdout",
          "text": [
            "<class 'numpy.float64'>\n",
            "2.220446049250313e-16 \n",
            "\n",
            "1.1081409e-06\n",
            "9.1856926e-08\n",
            "1.1395796e-06\n",
            "[[[-0.28905441  0.30343869 -0.73163494  0.12319217]\n",
            "  [-0.36987202  0.45380751  0.31528641  0.16009687]]\n",
            "\n",
            " [[-0.31532122 -0.23461519  0.05902784 -0.69862885]\n",
            "  [-0.46666767 -0.25807165 -0.1087248   0.19073188]]\n",
            "\n",
            " [[-0.38916162  0.39354705  0.08975242 -0.47423204]\n",
            "  [-0.25338519  0.20297756 -0.08078108  0.29496071]]\n",
            "\n",
            " [[-0.35615538 -0.60187734 -0.20918018  0.07857846]\n",
            "  [-0.34632149 -0.14833389  0.5400574   0.34155432]]]\n"
          ]
        }
      ]
    },
    {
      "cell_type": "code",
      "source": [
        "print(i_trunc_opt(Fs)[0])"
      ],
      "metadata": {
        "colab": {
          "base_uri": "https://localhost:8080/"
        },
        "id": "3JVWzDLGIOYJ",
        "outputId": "ef3060c6-0f9f-40e7-a03c-a272e6e06dde"
      },
      "execution_count": null,
      "outputs": [
        {
          "output_type": "stream",
          "name": "stdout",
          "text": [
            "[[[-0.27017975 -0.26676416  0.30447516  0.2888867 ]\n",
            "  [-0.40424645 -0.5102322  -0.27968207 -0.18371873]]\n",
            "\n",
            " [[-0.33057955 -0.06783468 -0.6092997   0.5161189 ]\n",
            "  [-0.45700914  0.3698402   0.06807419  0.17523882]]\n",
            "\n",
            " [[-0.42375225 -0.24999335  0.07672869 -0.6301403 ]\n",
            "  [-0.30860907 -0.12641668  0.61084574  0.357605  ]]\n",
            "\n",
            " [[-0.290714    0.47325853  0.15649678 -0.21518742]\n",
            "  [-0.29347518  0.4739888  -0.22289251 -0.12016868]]]\n"
          ]
        }
      ]
    },
    {
      "cell_type": "code",
      "source": [
        "@jit\n",
        "def Exp_value_two_site_optimizirano(lam_0,Gamma_0,lam_1,Gamma_1,S_1,S_2):\n",
        "   Theta,Theta1 = Compute_Theta_optimized(lam_0,Gamma_0,lam_1,Gamma_1)\n",
        "   \n",
        "   Mz = jnp.tensordot(S_1 ,jnp.eye(2),axes = 0)\n",
        "\n",
        "   Mz = jnp.einsum(\"aijb,ikjm->akmb\",Theta,Mz)\n",
        "   Mz1 = jnp.tensordot(Mz,jnp.conj(Theta),axes=([0,1,2,3],[0,1,2,3]))\n",
        "\n",
        "   Mzz = jnp.tensordot(jnp.eye(2) ,S_2,axes = 0)\n",
        "   Mzz = jnp.einsum(\"aijb,ikjm->akmb\",Theta,Mzz)\n",
        "   Mz2 = jnp.tensordot(Mzz,jnp.conj(Theta),axes=([0,1,2,3],[0,1,2,3]))\n",
        "   return (Mz1 + Mz2)/2\n",
        "\n",
        "def Exp_value_two_site_non_jit(lam_0,Gamma_0,lam_1,Gamma_1,S_1,S_2):\n",
        "   Theta = Compute_Theta_non_jit(lam_0,Gamma_0,lam_1,Gamma_1)\n",
        "   \n",
        "   Mz = np.einsum(\"ik,jm->ikjm\",S_1 ,np.eye(2))\n",
        "   Mz = np.einsum(\"aijb,ikjm->akmb\",Theta,Mz)\n",
        "   Mz1 = np.einsum(\"akmb,akmb->\",Mz,np.conj(Theta))\n",
        "\n",
        "   Mzz = np.einsum(\"ik,jm->ikjm\",np.eye(2) ,S_2)\n",
        "   Mzz = np.einsum(\"aijb,ikjm->akmb\",Theta,Mzz)\n",
        "   Mz2 = np.einsum(\"akmb,akmb->\",Mzz,np.conj(Theta))\n",
        "   return (Mz1+Mz2)/2\n",
        "# Comparison\n",
        "print(type(Gamma_0[0][0][0]))\n",
        "print(np.finfo(np.float64).eps,\"\\n\")\n",
        "\n",
        "print(LA.norm(Exp_value_two_site_optimizirano(lam_0,Gamma_0,lam_1,Gamma_1,S_z,S_z) - Exp_value_two_site_non_jit(lam_0,Gamma_0,lam_1,Gamma_1,S_z,S_z)))"
      ],
      "metadata": {
        "id": "-9OibLdhtdxR",
        "colab": {
          "base_uri": "https://localhost:8080/"
        },
        "outputId": "f217a45d-89bc-4ce0-b4da-1fdd53d4d1a5"
      },
      "execution_count": null,
      "outputs": [
        {
          "output_type": "stream",
          "name": "stdout",
          "text": [
            "<class 'numpy.float64'>\n",
            "2.220446049250313e-16 \n",
            "\n",
            "7.6293945e-06\n"
          ]
        }
      ]
    },
    {
      "cell_type": "code",
      "source": [
        "def apply_two_site_unitary_non_jit(lam_0,Gamma_0,lam_1,Gamma_1,U,chi,d):\n",
        "\n",
        "    Theta = Compute_Theta_non_jit(lam_0,Gamma_0,lam_1,Gamma_1)\n",
        "    Theta = np.einsum(\"ijkl,aijb->aklb\",U,Theta)\n",
        "    Theta = Theta.reshape(chi*d,chi*d)         \n",
        "\n",
        "    Sigma,lam_1,Ve = i_trunc_non_jit(chi,Theta)\n",
        "\n",
        "    vi = np.divide(1.0, lam_0, out=np.zeros_like(lam_0), where=np.abs(lam_0)>=1E-14)\n",
        "    \n",
        "    Gamma_1 = np.einsum(\"aib,b->aib\",Ve,vi)                            \n",
        "    Gamma_0 = np.einsum(\"a,aib->aib\",vi,Sigma) \n",
        "    \n",
        "    return Gamma_0,Gamma_1,lam_1\n",
        "\n",
        "def apply_two_site_unitary_opt(lam_0,Gamma_0,lam_1,Gamma_1,U):\n",
        "    chi = 20\n",
        "    d = 2 \n",
        "    Theta,Theta1 = Compute_Theta_optimized(lam_0,Gamma_0,lam_1,Gamma_1)\n",
        "    \n",
        "    Theta = jnp.einsum(\"ijkl,aijb->aklb\",U,Theta)\n",
        "    Theta = Theta.reshape(chi*d,chi*d)         \n",
        "\n",
        "    Sigma,lam_1,Ve = i_trunc_opt(Theta)\n",
        "\n",
        "    vi = division(lam_0)\n",
        "    Gamma_1 = jnp.tensordot(Ve,jnp.diag(vi),axes = 1)\n",
        "    \n",
        "    Gamma_0 = jnp.tensordot(jnp.diag(vi),Sigma,axes = 1)\n",
        "    \n",
        "    return Gamma_0,Gamma_1,lam_1\n",
        "\n",
        "# Comparison\n",
        "print(LA.norm(apply_two_site_unitary_non_jit(lam_0,Gamma_0,lam_1,Gamma_1,U,20,2)[2] - apply_two_site_unitary_opt(lam_0,Gamma_0,lam_1,Gamma_1,U)[2]))"
      ],
      "metadata": {
        "colab": {
          "base_uri": "https://localhost:8080/"
        },
        "id": "W38-1Cuq-aBT",
        "outputId": "33bf869e-65e6-44f7-d6df-65a423b52f63"
      },
      "execution_count": null,
      "outputs": [
        {
          "output_type": "stream",
          "name": "stdout",
          "text": [
            "1.0571295e-07\n"
          ]
        }
      ]
    },
    {
      "cell_type": "code",
      "source": [],
      "metadata": {
        "id": "iNrvBFckAgT9"
      },
      "execution_count": null,
      "outputs": []
    }
  ]
}