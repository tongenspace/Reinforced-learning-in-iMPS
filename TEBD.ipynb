{
 "cells": [
  {
   "cell_type": "code",
   "execution_count": 19,
   "metadata": {},
   "outputs": [],
   "source": [
    "def Compute_Theta_B(Lam, B1, B2):\n",
    "    Theta=np.einsum(\"a,aib->aib\",Lam,B1)\n",
    "    Theta=np.einsum(\"aib,bjc->aijc\",Theta,B2)\n",
    "    return Theta\n",
    "\n",
    "def apply_two_site_unitary(Lam, B1, B2,U,chis,j):\n",
    "    Theta = Compute_Theta_B(Lam, B1, B2)\n",
    "\n",
    "    Theta = np.einsum(\"ijkl,aijb->aklb\",U,Theta)\n",
    "    Theta = Theta.reshape(chis[j]*d,chis[j+2]*d)         \n",
    "\n",
    "    Sigma,lam_1,Ve=truncate(j,Theta,chis,L,d=2)\n",
    "\n",
    "    vi=np.divide(1.0, Lam, out=np.zeros_like(Lam), where=np.abs(Lam)>=1E-14)\n",
    "\n",
    "    B1 = np.einsum(\"a,aib->aib\",vi,Sigma) \n",
    "    B1 = np.einsum(\"aib,b->aib\",B1,lam_1)  \n",
    "\n",
    "    B2 = Ve \n",
    "    \n",
    "    return Lam,lam_1, B1, B2\n",
    "\n",
    "def Entr(lam):\n",
    "    N = len(lam)\n",
    "    Ent = 0. \n",
    "    for j in range(N):\n",
    "        Ent += -np.log(lam[j])*np.log(lam[j])\n",
    "    return Ent"
   ]
  },
  {
   "cell_type": "code",
   "execution_count": 21,
   "metadata": {},
   "outputs": [
    {
     "name": "stdout",
     "output_type": "stream",
     "text": [
      "[1 2 4 2 1]\n"
     ]
    },
    {
     "data": {
      "text/plain": [
       "[<matplotlib.lines.Line2D at 0x175f7cd8cd0>]"
      ]
     },
     "execution_count": 21,
     "metadata": {},
     "output_type": "execute_result"
    },
    {
     "data": {
      "image/png": "[encoded data removed]",
      "text/plain": [
       "<Figure size 432x288 with 1 Axes>"
      ]
     },
     "metadata": {
      "needs_background": "light"
     },
     "output_type": "display_data"
    }
   ],
   "source": [
    "import numpy as np\n",
    "from Library import Convert_to_A_and_B, ka, truncate, Create_random_MPS, Pauli, Model_coefficients, Create_Hamiltonina\n",
    "from quspin.basis import spin_basis_general # Hilbert space spin basis\n",
    "import matplotlib.pyplot as plt\n",
    "from scipy.linalg import expm\n",
    "T = 2.5*2    # total time\n",
    "N = 75*6     # Number of updates\n",
    "dt = T/N       # time step\n",
    "\n",
    "d = 2\n",
    "L = 4        # system size\n",
    "chi = 20              # Bond dimension\n",
    "d = 2                                  # Dimension of physical index\n",
    "h_x, h_y, h_z = np.sqrt(3) , np.log(2), 0.  # Field in the different directions\n",
    "J_xx, J_yy, J_zz = 0., 0., 0.29  # Strength of spin interactions\n",
    "chis = ka(L,chi)\n",
    "print(chis)\n",
    "Entropy = np.zeros(N)\n",
    "Model = [[\"z\"],[\"x\",\"y\"]]     # The first part of the model gives us the spin interaction and the second one the fields\n",
    "Interactions, Fields = Model_coefficients(J_xx,J_yy,J_zz,h_x,h_y,h_z)\n",
    "S_z, S_x, S_y, S1 = Pauli()\n",
    "\n",
    "Gamma,Lambda = Create_random_MPS(L,chis)\n",
    "\n",
    "_, B = Convert_to_A_and_B(Gamma, Lambda,L)\n",
    "\n",
    "\n",
    "H  = Create_Hamiltonina(Model,S1,Interactions,Fields,d)\n",
    "\n",
    "# Time evolution operator\n",
    "U=expm(-1j*dt*H.reshape(d**2,-1)).reshape(d,d,d,d)\n",
    "for ty in range(N):\n",
    "  for j in range(1,L-1,2):\n",
    "    Lambda[j], Lambda[j+1], B[j+1], B[j+2] = apply_two_site_unitary(Lambda[j], B[j+1], B[j+2],U,chis,j)\n",
    "\n",
    "  for j in range(0,L,2):\n",
    "    Lambda[j], Lambda[j+1], B[j+1], B[j+2] = apply_two_site_unitary(Lambda[j], B[j+1], B[j+2],U,chis,j)\n",
    "  Entropy[ty] = Entr(Lambda[len(Lambda)//2])\n",
    "#Mz_iTEBD = np.zeros(N+1).astype(data_type)\n",
    "#Mz_iTEBD[0] = Exp_value_two_site(lam[0],Gamma[0],lam[1],Gamma[1],S_z,S_z)\n",
    "plt.plot(Entropy)\n"
   ]
  },
  {
   "cell_type": "code",
   "execution_count": 5,
   "metadata": {},
   "outputs": [
    {
     "name": "stdout",
     "output_type": "stream",
     "text": [
      "0\n",
      "2\n",
      "4\n"
     ]
    }
   ],
   "source": [
    "for j in range(0,6,2):\n",
    "    print(j)"
   ]
  },
  {
   "cell_type": "code",
   "execution_count": null,
   "metadata": {},
   "outputs": [],
   "source": []
  }
 ],
 "metadata": {
  "interpreter": {
   "hash": "cc14ccd3e667fcadedd63288f9d887aa62f59ed1c58cf76862d7d0abc3120edd"
  },
  "kernelspec": {
   "display_name": "Python 3.9.7 ('base')",
   "language": "python",
   "name": "python3"
  },
  "language_info": {
   "codemirror_mode": {
    "name": "ipython",
    "version": 3
   },
   "file_extension": ".py",
   "mimetype": "text/x-python",
   "name": "python",
   "nbconvert_exporter": "python",
   "pygments_lexer": "ipython3",
   "version": "3.9.7"
  },
  "orig_nbformat": 4
 },
 "nbformat": 4,
 "nbformat_minor": 2
}
