{
 "cells": [
  {
   "cell_type": "code",
   "execution_count": 6,
   "metadata": {},
   "outputs": [
    {
     "name": "stdout",
     "output_type": "stream",
     "text": [
      "[0. 0. 0. ... 0. 0. 0.]\n"
     ]
    }
   ],
   "source": [
    "from quspin.basis import spin_basis_general # Hilbert space spin basis\n",
    "import numpy as np\n",
    "import math\n",
    "from numpy import linalg as LA\n",
    "import matplotlib.pyplot as plt\n",
    "from quspin.basis import spin_basis_1d \n",
    "from scipy.linalg import expm\n",
    "np.random.seed(0)\n",
    "L=16\n",
    "basis=spin_basis_general(L,)\n",
    "Ns = basis.Ns \n",
    "antiferomagnets=np.zeros(basis.Ns)\n",
    "Name=''\n",
    "for j in range(L):\n",
    "      if j%2==0:\n",
    "       Name+=\"0\"\n",
    "      else:\n",
    "       Name+='1'\n",
    "array_ind_s=basis.index(basis.state_to_int(Name))\n",
    "antiferomagnets[array_ind_s]=1.0\n",
    "print(antiferomagnets)"
   ]
  },
  {
   "cell_type": "code",
   "execution_count": 7,
   "metadata": {},
   "outputs": [],
   "source": [
    "import numpy as np\n",
    "\n",
    "data_type=np.complex128\n",
    "\n",
    "S_z = np.diag([1.,-1.]).astype(data_type)\n",
    "S_x =np.array([[0.,1.],[1.,0.]],dtype=data_type)\n",
    "S_y=np.array([[0.,complex(0,-1.)],[complex(0,1.),0.]],dtype=data_type) #Pauli Matrices\n",
    "\n",
    "\n",
    "def Matrix_product_states(Fs,L,chi):\n",
    "  v,vi,Gamma=[],[],[]\n",
    "  k=ka(L,cap=chi)\n",
    "  vi.append(np.array([1.]))\n",
    "  v.append(np.array([1.]))\n",
    " # Main loop\n",
    "\n",
    "  for j in range(L):\n",
    "    Fs=Fs.reshape(2*k[j],-1)\n",
    "    #S,vy,D=LA.svd(Fs,full_matrices=False)\n",
    "    S,vy,D=truncate(j,Fs,k)\n",
    "    #Creating V\n",
    "    v.append(vy)\n",
    "    vi.append(np.divide(1.0, vy, out=np.zeros_like(vy), where=np.abs(vy)>=1E-14))\n",
    "    #Y array\n",
    "    Fs=np.einsum('a,aib->aib',vy,D)\n",
    "    #Creating X\n",
    "    #if j!=L-1:\n",
    "    Gamma.append(np.einsum(\"a,aib->aib\",vi[j],S))\n",
    " \n",
    "  return Gamma,v\n",
    "def ka(L,exact=False,cap=32):\n",
    "   if exact:\n",
    "     k=np.zeros(L+1,dtype=int)\n",
    "     for j in range(L+1):\n",
    "      if j<L/2:\n",
    "       k[j]=int(pow(2,j))\n",
    "      else:\n",
    "       k[j]=int(pow(2,L-j))\n",
    "     return k\n",
    "   else:\n",
    "     k=np.zeros(L+1,dtype=int)\n",
    "     for j in range(L+1):\n",
    "      if j<L/2:\n",
    "       k[j]=min(int(pow(2,j)),cap)\n",
    "      else:\n",
    "       k[j]=min(int(pow(2,L-j)),cap)\n",
    "     return k\n",
    "def chi_trunc(chi,Fs,d=2):\n",
    "  S,V,D = LA.svd(Fs,full_matrices=False)\n",
    "    \n",
    "  lam = V[:chi]/LA.norm(V[:chi])\n",
    "  \n",
    "  \n",
    "  A=S[:,:chi].reshape(chi,d,chi)\n",
    "  B=D[:chi].reshape(chi,d,chi)\n",
    "  \n",
    "  return A,lam,B\n",
    "def truncate(j,Fs,k,d=2):\n",
    "    \n",
    "    S,V,D=LA.svd(Fs,full_matrices=False)\n",
    "    \n",
    "    lam= V[:k[j+1]]/LA.norm(V[:k[j+1]])\n",
    "   \n",
    "    A=S[:,:k[j+1]].reshape(k[j],d,k[j+1])\n",
    "    if j!=L-1:\n",
    "     B=D[:k[j+1]].reshape(k[j+1],d,-1)\n",
    "    else:\n",
    "      B=np.array([[[1.]]])\n",
    "    return A,lam,B\n"
   ]
  },
  {
   "cell_type": "code",
   "execution_count": 8,
   "metadata": {},
   "outputs": [],
   "source": [
    "def iDMRG(L_env,W,R_env,A,B,Ener,Ener1,lam,n):\n",
    "    for i in range(n):\n",
    "     #print(i)\n",
    "     Ha=np.einsum(\"abc,bdij->adijc\",L_env,W)\n",
    "     Haa=np.einsum(\"adijc,dekl->aekl ijc\",Ha,W)\n",
    "     H=np.einsum(\"aekl ijc,feg->aikf cjlg\",Haa,R_env).reshape((chi*chi*d**2,chi*chi*d**2))\n",
    "    \n",
    "     \n",
    "     As = LinearOperator((chi*chi*d**2,chi*chi*d**2), matvec=H_mult,dtype=data_type)\n",
    "     \n",
    "     Theta = np.einsum(\"aib,b,bjc->aijc\",A,lam[1],B).reshape(chi*chi*d**2)\n",
    "     if __name__ == \"__main__\":\n",
    "      w, v = eigsh(As,k=1,v0=Theta,which=\"SA\")\n",
    "\n",
    "     Theta_p = v[:,0].reshape(chi*d,chi*d)\n",
    "     Theta_p/=LA.norm(Theta_p)\n",
    "\n",
    "     A,lamb,B=chi_trunc(chi,Theta_p,d=d)\n",
    "    \n",
    "     lam[1]=lamb\n",
    "    \n",
    "     Le=np.einsum(\"amb,aic->mbic\",L_env,A)   \n",
    "     Le1=np.einsum(\"mbic,mlij->bclj\",Le,W)   \n",
    "     L_env=np.einsum(\"bclj,bjd->cld\",Le1,np.conj(A))\n",
    "\n",
    "     Re=np.einsum(\"amb,cia->mbci\",R_env,B)\n",
    "     Re1=np.einsum(\"mbci,lmij->bclj\",Re,W)\n",
    "     R_env=np.einsum(\"bclj,djb->cld\",Re1,np.conj(B))\n",
    "    \n",
    "     Uppera = np.einsum(\"aib,b->aib\",A,lam[1])\n",
    "     Upper = np.einsum(\"aib,bdk->aidk\",Uppera,B)\n",
    "    \n",
    "     Enera=np.einsum(\"amc,aikb->ikbmc\",L_env,Upper)\n",
    "     Eneraa=np.einsum(\"ikbmc,mlij->ljkbc\",Enera,W)\n",
    "     Eneraaa=np.einsum(\"ljkbc,ldkv->jdbvc\",Eneraa,W)\n",
    "     Eneraaaa=np.einsum(\"jdbvc,cjvh->dbh\",Eneraaa,np.conj(Upper))\n",
    "     Ener[i]=np.einsum(\"dbh,bdh->\",Eneraaaa,R_env)\n",
    "     Ener1[i]=Ener[i]/2/(i+1)\n",
    "    "
   ]
  },
  {
   "cell_type": "code",
   "execution_count": 9,
   "metadata": {},
   "outputs": [],
   "source": [
    "def H_mult(v):\n",
    "  return np.matmul(H,v)"
   ]
  },
  {
   "cell_type": "code",
   "execution_count": 27,
   "metadata": {},
   "outputs": [
    {
     "name": "stdout",
     "output_type": "stream",
     "text": [
      "start\n",
      "0\n",
      "10\n",
      "20\n",
      "30\n",
      "40\n",
      "50\n",
      "60\n",
      "70\n",
      "80\n",
      "90\n"
     ]
    }
   ],
   "source": [
    "from numpy.random import random as rnd\n",
    "from numpy import linalg as LA\n",
    "from scipy.sparse.linalg import LinearOperator\n",
    "from scipy.sparse.linalg import eigsh\n",
    "import cProfile\n",
    "import pstats\n",
    "np.random.seed(121)\n",
    "chi = 20                   # Dimension for bond index\n",
    "chi_DMRG = 3                  # Dimension for bond DMRG index\n",
    "L=18                    \n",
    "J_zz = 0.2\n",
    "hx = 0.13\n",
    "#J_xx = 0.46\n",
    "d = 2                         # Dimension for physical index  \n",
    "\n",
    "Fs=np.array([rnd()+rnd()*1j for d in range(2**L)]).astype(data_type)\n",
    "Fs=(Fs/LA.norm(Fs))\n",
    "n=100                       # Number of sweeps\n",
    "\n",
    "W = np.zeros((chi_DMRG,chi_DMRG,d,d),dtype=data_type)\n",
    "W[0,0] = np.array(np.eye(2),dtype=data_type)\n",
    "W[0,1] = S_z\n",
    "#W[0,2] = S_x\n",
    "W[0,2] = hx*S_x\n",
    "W[1,2] = J_zz*S_z\n",
    "#W[2,3] = J_xx*S_x\n",
    "W[2,2] = np.array(np.eye(2),dtype=data_type) # MPO rep\n",
    "\n",
    "v_L,v_R=np.zeros(chi_DMRG,dtype=data_type),np.zeros(chi_DMRG,dtype=data_type)\n",
    "v_L[0],v_R[-1]=1.,1. \n",
    "\n",
    "L_env,R_env=np.zeros((chi,chi_DMRG,chi),dtype=data_type),np.zeros((chi,chi_DMRG,chi),dtype=data_type)\n",
    "\n",
    "L_env=np.einsum(\"ab,c->acb\",np.eye(chi,dtype=data_type),v_L)         # Initial Righ and left environments\n",
    "R_env=np.einsum(\"ab,c->acb\",np.eye(chi,dtype=data_type),v_R)\n",
    "\n",
    "X,V = Matrix_product_states(Fs,L,chi=chi) # do not use\n",
    "\n",
    "Gamma=[X[L//2],X[L//2+1]]\n",
    "lam=[V[L//2],V[L//2]]\n",
    "\n",
    "A = np.zeros((chi,d,chi),dtype=data_type)\n",
    "B = np.zeros((chi,d,chi),dtype=data_type)\n",
    "\n",
    "A = np.einsum(\"a,aib->aib\",lam[0],Gamma[0])\n",
    "B = np.einsum(\"aib,b->aib\",Gamma[1],lam[0])\n",
    "\n",
    "H=np.einsum(\"abc,bdij->adijc\",L_env,W)\n",
    "H=np.einsum(\"adijc,dekl->aekl ijc\",H,W)\n",
    "H=np.einsum(\"aeklijc,feg->aikf cjlg\",H,R_env).reshape((chi*chi*d**2,chi*chi*d**2))\n",
    "\n",
    "Ener=np.zeros(n).astype(data_type)      # Initialize energy per site\n",
    "Ener1=np.zeros(n).astype(data_type)     # Initialize energy array\n",
    "\n",
    "print(\"start\")\n",
    "\n",
    "for i in range(n):\n",
    "    if i%10==0:\n",
    "        print(i)\n",
    "    # Update Hamiltonian\n",
    "    H=np.einsum(\"abc,bdij->adijc\",L_env,W)\n",
    "    H=np.einsum(\"adijc,dekl->aekl ijc\",H,W)\n",
    "    H=np.einsum(\"aekl ijc,feg->aikf cjlg\",H,R_env).reshape((chi*chi*d**2,chi*chi*d**2))\n",
    "    \n",
    "    As = LinearOperator((chi*chi*d**2,chi*chi*d**2), matvec=H_mult,dtype=data_type)\n",
    "    \n",
    "    Theta = np.einsum(\"aib,b,bjc->aijc\",A,lam[1],B).reshape(chi*chi*d**2)\n",
    "    \n",
    "    # Find ground state\n",
    "    w, v = eigsh(As,k=1,v0=Theta,which=\"SA\")\n",
    "\n",
    "    Theta_p = v[:,0].reshape(chi*d,chi*d)\n",
    "    Theta_p/=LA.norm(Theta_p)\n",
    "    # Truncate\n",
    "    A,lamb,B=chi_trunc(chi,Theta_p,d=d)\n",
    "    lam[1]=lamb\n",
    "\n",
    "    #Updating the left and right environments\n",
    "    L_env=np.einsum(\"amb,aic->mbic\",L_env,A)   \n",
    "    L_env=np.einsum(\"mbic,mlij->bclj\",L_env,W)   \n",
    "    L_env=np.einsum(\"bclj,bjd->cld\",L_env,np.conj(A))\n",
    "\n",
    "    R_env=np.einsum(\"amb,cia->mbci\",R_env,B)\n",
    "    R_env=np.einsum(\"mbci,lmij->bclj\",R_env,W)\n",
    "    R_env=np.einsum(\"bclj,djb->cld\",R_env,np.conj(B))\n",
    "\n",
    "    # 2-site wave function\n",
    "    Upper=np.einsum(\"aib,b,bjc->aijc\",A,lam[1],B)\n",
    "\n",
    "    # Compute energy\n",
    "    Ener01=np.einsum(\"amc,aikb->ikbmc\",L_env,Upper)\n",
    "    Ener02=np.einsum(\"ikbmc,mlij->ljkbc\",Ener01,W)\n",
    "    Ener03=np.einsum(\"ljkbc,ldkv->jdbvc\",Ener02,W)\n",
    "    Ener04=np.einsum(\"jdbvc,cjvh->dbh\",Ener03,np.conj(Upper))\n",
    "    Ener[i]=np.einsum(\"dbh,bdh->\",Ener04,R_env)\n",
    "    Ener1[i]=Ener[i]/2/(i+1)\n",
    "  \n",
    "    \n"
   ]
  },
  {
   "cell_type": "code",
   "execution_count": 29,
   "metadata": {},
   "outputs": [
    {
     "name": "stdout",
     "output_type": "stream",
     "text": [
      "Hermiticity check passed!\n",
      "Symmetry checks passed!\n",
      "[-0.22175432] Reached exp value\n"
     ]
    }
   ],
   "source": [
    "from quspin.operators import hamiltonian # Hamiltonians and operators\n",
    "from quspin.basis import spin_basis_1d \n",
    "\n",
    "L=20\n",
    "basis = spin_basis_1d(L,pauli=True,pblock=1)\n",
    "Jzz = 0.2\n",
    "hx = 0.13\n",
    "#Jxx = 0.46\n",
    "\n",
    "J_zz = [[Jzz,i,(i+1)%L] for i in range(L)]\n",
    "#J_xx = [[Jxx,i,(i+1)%L] for i in range(L)] \n",
    "h_x=[[hx,i] for i in range(L)]\n",
    "static = [[\"zz\",J_zz],[\"x\",h_x]]\n",
    "dynamic=[]\n",
    "H_ZZX = hamiltonian(static,dynamic,basis=basis)\n",
    "E=H_ZZX.eigsh(maxiter=1E4,return_eigenvectors=False,which=\"SA\",k=1)\n",
    "\n",
    "print(E/L,\"Reached exp value\")"
   ]
  },
  {
   "cell_type": "code",
   "execution_count": 44,
   "metadata": {},
   "outputs": [
    {
     "data": {
      "image/png": "[encoded data removed]",
      "text/plain": [
       "<Figure size 432x288 with 1 Axes>"
      ]
     },
     "metadata": {
      "needs_background": "light"
     },
     "output_type": "display_data"
    },
    {
     "name": "stdout",
     "output_type": "stream",
     "text": [
      "-2.0824284878151467e-05 Difference in last two sweeps\n",
      "-0.21969253903895028 Final energy\n",
      "Error 0.9297613002552385 %\n"
     ]
    },
    {
     "data": {
      "image/png": "[encoded data removed]",
      "text/plain": [
       "<Figure size 432x288 with 1 Axes>"
      ]
     },
     "metadata": {
      "needs_background": "light"
     },
     "output_type": "display_data"
    }
   ],
   "source": [
    "plt.plot(Ener1.real,label=\"Energy per site\")\n",
    "plt.legend()\n",
    "plt.ylabel(\"Energy\")\n",
    "plt.xlabel(\"Sweeps\")\n",
    "plt.show()\n",
    "print(Ener1.real[n-1]-Ener1.real[n-2],\"Difference in last two sweeps\")\n",
    "print(Ener1.real[n-1],\"Final energy\")\n",
    "print(\"Error {0} %\".format((1 - float(Ener1.real[n-1]/(E/L)))*100))\n",
    "\n",
    "plt.plot(Ener.real,label=\"Total Energy\")\n",
    "plt.legend()\n",
    "plt.ylabel(\"Energy\")\n",
    "plt.xlabel(\"Sweeps\")\n",
    "plt.show()\n"
   ]
  },
  {
   "cell_type": "code",
   "execution_count": null,
   "metadata": {},
   "outputs": [],
   "source": []
  }
 ],
 "metadata": {
  "interpreter": {
   "hash": "96eb50e1d44aed467dc8f759cb08c32fbfa9babcf79c554e2d0e5feb04653a10"
  },
  "kernelspec": {
   "display_name": "Python 3.6.5 64-bit ('base': conda)",
   "name": "python3"
  },
  "language_info": {
   "codemirror_mode": {
    "name": "ipython",
    "version": 3
   },
   "file_extension": ".py",
   "mimetype": "text/x-python",
   "name": "python",
   "nbconvert_exporter": "python",
   "pygments_lexer": "ipython3",
   "version": "3.6.5"
  },
  "orig_nbformat": 4
 },
 "nbformat": 4,
 "nbformat_minor": 2
}
