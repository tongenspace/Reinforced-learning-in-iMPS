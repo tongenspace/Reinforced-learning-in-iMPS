{
 "cells": [
  {
   "cell_type": "code",
   "execution_count": 2,
   "metadata": {},
   "outputs": [],
   "source": [
    "import numpy as np\n",
    "from numpy import linalg as LA\n",
    "import matplotlib.pyplot as plt\n",
    "from Library import ka, Create_MPO, Create_random_MPS, Pauli, Model_coefficients, i_trunc\n",
    "\n",
    "data_type=np.complex128\n",
    "\n",
    "\n",
    "d = 2\n",
    "L = 80        # system size\n",
    "chi_max = 8          # Maximal bond dimension                            \n",
    "n = 100   # Number of zips\n",
    "h_x, h_y, h_z = 0.5, 0.9, 0.5  # Field in the different directions\n",
    "J_xx, J_yy, J_zz = 1.5, 0.2, 1.5  # Strength of spin interactions\n",
    "Model = [[\"z\"],[\"x\"]]     # The first part of the model gives us the spin interaction and the second one the fields\n",
    "chi_MPO = len(Model[0]) + 2 \n",
    "t = 8\n",
    "chis = ka(L,chi_max)\n",
    "\n",
    "S_z, S_x, S_y, S1 = Pauli()\n",
    "Interactions, Fields = Model_coefficients(J_xx,J_yy,J_zz,h_x,h_y,h_z)\n",
    " \n",
    "def H_mult(v):\n",
    "    return np.matmul(H,v)\n"
   ]
  },
  {
   "cell_type": "code",
   "execution_count": 3,
   "metadata": {},
   "outputs": [
    {
     "name": "stdout",
     "output_type": "stream",
     "text": [
      "start\n",
      "0\n",
      "10\n",
      "20\n",
      "30\n",
      "40\n",
      "50\n",
      "60\n",
      "70\n",
      "80\n",
      "90\n"
     ]
    }
   ],
   "source": [
    "from numpy.random import random as rnd\n",
    "from scipy.sparse.linalg import LinearOperator\n",
    "from scipy.sparse.linalg import eigsh\n",
    "import cProfile\n",
    "import pstats\n",
    "np.random.seed(121)\n",
    "\n",
    "# Create MPO\n",
    "W = Create_MPO(Model,S1,Interactions,Fields,chi_MPO, data_type)\n",
    "# Create the MPS\n",
    "X, V = Create_random_MPS(L,chis)\n",
    "\n",
    "v_L,v_R=np.zeros(chi_MPO,dtype=data_type),np.zeros(chi_MPO,dtype=data_type)\n",
    "v_L[0],v_R[-1]=1.,1. \n",
    "\n",
    "L_env,R_env=np.zeros((chi_max,chi_MPO,chi_max),dtype=data_type),np.zeros((chi_max,chi_MPO,chi_max),dtype=data_type)\n",
    "\n",
    "L_env=np.einsum(\"ab,c->acb\",np.eye(chi_max,dtype=data_type),v_L)         # Initial Righ and left environments\n",
    "R_env=np.einsum(\"ab,c->acb\",np.eye(chi_max,dtype=data_type),v_R)\n",
    "\n",
    "Gamma=[X[L//2],X[L//2+1]]\n",
    "lam=[V[L//2],V[L//2]]\n",
    "\n",
    "A = np.zeros((chi_max,d,chi_max),dtype=data_type)\n",
    "B = np.zeros((chi_max,d,chi_max),dtype=data_type)\n",
    "\n",
    "A = np.einsum(\"a,aib->aib\",lam[0],Gamma[0])\n",
    "B = np.einsum(\"aib,b->aib\",Gamma[1],lam[0])\n",
    "\n",
    "H=np.einsum(\"abc,bdij->adijc\",L_env,W)\n",
    "H=np.einsum(\"adijc,dekl->aekl ijc\",H,W)\n",
    "H=np.einsum(\"aeklijc,feg->aikf cjlg\",H,R_env).reshape((chi_max*chi_max*d**2,chi_max*chi_max*d**2))\n",
    "\n",
    "Ener=np.zeros(n).astype(data_type)      # Initialize energy per site\n",
    "Ener1=np.zeros(n).astype(data_type)     # Initialize energy array\n",
    "\n",
    "print(\"start\")\n",
    "\n",
    "for i in range(n):\n",
    "    if i%10 == 0:\n",
    "       print(i)\n",
    "    # Update Hamiltonian\n",
    "    H=np.einsum(\"abc,bdij->adijc\",L_env,W)\n",
    "    H=np.einsum(\"adijc,dekl->aekl ijc\",H,W)\n",
    "    H=np.einsum(\"aekl ijc,feg->aikf cjlg\",H,R_env).reshape((chi_max*chi_max*d**2,chi_max*chi_max*d**2))\n",
    "    \n",
    "    As = LinearOperator((chi_max*chi_max*d**2,chi_max*chi_max*d**2), matvec=H_mult,dtype=data_type)\n",
    "    \n",
    "    Theta = np.einsum(\"aib,b,bjc->aijc\",A,lam[1],B).reshape(chi_max*chi_max*d**2)\n",
    "    \n",
    "    # Find ground state\n",
    "    w, v = eigsh(As,k=1,v0=Theta,which=\"SA\")\n",
    "\n",
    "    Theta_p = v[:,0].reshape(chi_max*d,chi_max*d)\n",
    "    Theta_p/=LA.norm(Theta_p)\n",
    "    # Truncate\n",
    "    A,lamb,B=i_trunc(chi_max,Theta_p,d=d)\n",
    "    lam[1]=lamb\n",
    "\n",
    "    #Updating the left and right environments\n",
    "    L_env=np.einsum(\"amb,aic->mbic\",L_env,A)   \n",
    "    L_env=np.einsum(\"mbic,mlij->bclj\",L_env,W)   \n",
    "    L_env=np.einsum(\"bclj,bjd->cld\",L_env,np.conj(A))\n",
    "\n",
    "    R_env=np.einsum(\"amb,cia->mbci\",R_env,B)\n",
    "    R_env=np.einsum(\"mbci,lmij->bclj\",R_env,W)\n",
    "    R_env=np.einsum(\"bclj,djb->cld\",R_env,np.conj(B))\n",
    "\n",
    "    # 2-site wave function\n",
    "    Upper=np.einsum(\"aib,b,bjc->aijc\",A,lam[1],B)\n",
    "\n",
    "    # Compute energy\n",
    "    Ener01=np.einsum(\"amc,aikb->ikbmc\",L_env,Upper)\n",
    "    Ener02=np.einsum(\"ikbmc,mlij->ljkbc\",Ener01,W)\n",
    "    Ener03=np.einsum(\"ljkbc,ldkv->jdbvc\",Ener02,W)\n",
    "    Ener04=np.einsum(\"jdbvc,cjvh->dbh\",Ener03,np.conj(Upper))\n",
    "    Ener[i]=np.einsum(\"dbh,bdh->\",Ener04,R_env)\n",
    "    Ener1[i]=Ener[i]/2/(i+1)"
   ]
  },
  {
   "cell_type": "code",
   "execution_count": 4,
   "metadata": {},
   "outputs": [
    {
     "name": "stdout",
     "output_type": "stream",
     "text": [
      "(-1.5211474566590975+2.6267108825273777e-16j)\n"
     ]
    },
    {
     "name": "stderr",
     "output_type": "stream",
     "text": [
      "c:\\Users\\hgton\\anaconda3\\lib\\site-packages\\matplotlib\\cbook\\__init__.py:1333: ComplexWarning: Casting complex values to real discards the imaginary part\n",
      "  return np.asarray(x, float)\n"
     ]
    },
    {
     "data": {
      "image/png": "[encoded data removed]",
      "text/plain": [
       "<Figure size 432x288 with 1 Axes>"
      ]
     },
     "metadata": {
      "needs_background": "light"
     },
     "output_type": "display_data"
    }
   ],
   "source": [
    "plt.plot(Ener1)\n",
    "print(Ener1[-1])"
   ]
  },
  {
   "cell_type": "code",
   "execution_count": null,
   "metadata": {},
   "outputs": [],
   "source": []
  }
 ],
 "metadata": {
  "interpreter": {
   "hash": "cc14ccd3e667fcadedd63288f9d887aa62f59ed1c58cf76862d7d0abc3120edd"
  },
  "kernelspec": {
   "display_name": "Python 3.9.7 ('base')",
   "language": "python",
   "name": "python3"
  },
  "language_info": {
   "codemirror_mode": {
    "name": "ipython",
    "version": 3
   },
   "file_extension": ".py",
   "mimetype": "text/x-python",
   "name": "python",
   "nbconvert_exporter": "python",
   "pygments_lexer": "ipython3",
   "version": "3.9.7"
  },
  "orig_nbformat": 4
 },
 "nbformat": 4,
 "nbformat_minor": 2
}
